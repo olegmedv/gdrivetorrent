{
 "cells": [
  {
   "cell_type": "markdown",
   "metadata": {},
   "source": [
    "# Local Torrent Downloader with Auto-Archive\n",
    "\n",
    "This script downloads torrents to local Colab storage (~70GB) and automatically creates 700MB archives for easy download.\n",
    "\n",
    "⚠️ **Important**: For research and educational purposes only. Please respect copyright laws and use only for legal content."
   ]
  },
  {
   "cell_type": "markdown",
   "metadata": {},
   "source": [
    "## 1. Install Dependencies"
   ]
  },
  {
   "cell_type": "code",
   "execution_count": null,
   "metadata": {},
   "outputs": [],
   "source": [
    "# Install dependencies\n",
    "!apt-get update\n",
    "!apt-get install -y libtorrent-rasterbar-dev p7zip-full\n",
    "!pip install libtorrent\n",
    "\n",
    "# Check installation\n",
    "import libtorrent as lt\n",
    "print(f\"✅ LibTorrent version: {lt.version}\")\n",
    "print(\"✅ 7zip installed for archiving\")\n",
    "print(\"✅ Installation completed successfully!\")\n",
    "print(f\"📁 Available local storage: ~70GB in /content/\")"
   ]
  },
  {
   "cell_type": "markdown",
   "metadata": {},
   "source": [
    "## 2. Setup Local Storage"
   ]
  },
  {
   "cell_type": "code",
   "execution_count": null,
   "metadata": {},
   "outputs": [],
   "source": "import os\nimport shutil\n\n# Create universal directories\ndownloads_torrent = '/content/downloads_torrent'  # All downloads go here\narchive_dir = '/content/archives'\n\nos.makedirs(downloads_torrent, exist_ok=True)\nos.makedirs(archive_dir, exist_ok=True)\n\n# Check available space\ndef get_disk_usage(path):\n    total, used, free = shutil.disk_usage(path)\n    return {\n        'total': total // (1024**3),  # GB\n        'used': used // (1024**3),\n        'free': free // (1024**3)\n    }\n\nusage = get_disk_usage('/content')\nprint(f\"💾 Disk usage: {usage['used']}GB used / {usage['total']}GB total\")\nprint(f\"💾 Available space: {usage['free']}GB\")\nprint(f\"📁 Downloads directory: {downloads_torrent}\")\nprint(f\"📦 Archive directory: {archive_dir}\")"
  },
  {
   "cell_type": "markdown",
   "metadata": {},
   "source": [
    "## 3. Enhanced Torrent Downloader with Auto-Archive"
   ]
  },
  {
   "cell_type": "code",
   "execution_count": null,
   "metadata": {},
   "outputs": [],
   "source": "import libtorrent as lt\nimport time\nimport os\nimport subprocess\nimport shutil\nfrom IPython.display import clear_output\nfrom google.colab import files\nimport datetime\n\nclass UniversalTorrentDownloader:\n    def __init__(self, downloads_path, archive_path):\n        self.downloads_path = downloads_path\n        self.archive_path = archive_path\n        self.session = lt.session()\n        self.session.listen_on(6881, 6891)\n        \n    def download_torrent(self, torrent_file_or_magnet, auto_archive=True, auto_download=True):\n        \"\"\"Download torrent, archive, and download archives automatically\"\"\"\n        try:\n            # Check if it's a magnet link or file\n            if torrent_file_or_magnet.startswith('magnet:'):\n                handle = lt.add_magnet_uri(self.session, torrent_file_or_magnet, {\n                    'save_path': self.downloads_path\n                })\n            else:\n                # Load torrent file\n                info = lt.torrent_info(torrent_file_or_magnet)\n                handle = self.session.add_torrent({\n                    'ti': info,\n                    'save_path': self.downloads_path\n                })\n            \n            torrent_name = handle.name()\n            print(f\"🚀 Starting download: {torrent_name}\")\n            \n            # Progress monitoring\n            while not handle.is_seed():\n                status = handle.status()\n                \n                clear_output(wait=True)\n                print(f\"📁 Torrent: {torrent_name}\")\n                print(f\"📊 Progress: {status.progress * 100:.1f}%\")\n                print(f\"⬇️ Download: {status.download_rate / 1000:.1f} KB/s\")\n                print(f\"⬆️ Upload: {status.upload_rate / 1000:.1f} KB/s\")\n                print(f\"👥 Peers: {status.num_peers} | Seeds: {status.num_seeds}\")\n                \n                # Show disk usage\n                usage = get_disk_usage('/content')\n                print(f\"💾 Disk: {usage['used']}GB used / {usage['free']}GB free\")\n                \n                if status.state == lt.torrent_status.downloading:\n                    print(\"🔄 Status: Downloading\")\n                elif status.state == lt.torrent_status.finished:\n                    print(\"✅ Status: Download Finished\")\n                    break\n                elif status.state == lt.torrent_status.seeding:\n                    print(\"🌱 Status: Seeding\")\n                    break\n                \n                time.sleep(2)\n            \n            print(f\"\\n✅ Download completed: {torrent_name}\")\n            \n            # Auto-archive if requested\n            if auto_archive:\n                print(\"📦 Creating archives...\")\n                self.create_archives_from_downloads()\n                \n                # Auto-download archives if requested\n                if auto_download:\n                    print(\"📥 Starting automatic download...\")\n                    self.download_all_archives()\n                \n        except Exception as e:\n            print(f\"❌ Download error: {e}\")\n    \n    def create_archives_from_downloads(self):\n        \"\"\"Archive everything in downloads_torrent folder\"\"\"\n        try:\n            if not os.path.exists(self.downloads_path):\n                print(f\"❌ Downloads path not found: {self.downloads_path}\")\n                return\n            \n            # Check if there are any files to archive\n            files_to_archive = []\n            for root, dirs, files in os.walk(self.downloads_path):\n                for file in files:\n                    files_to_archive.append(os.path.join(root, file))\n            \n            if not files_to_archive:\n                print(\"❌ No files to archive in downloads folder\")\n                return\n            \n            # Create timestamp for unique archive name\n            timestamp = datetime.datetime.now().strftime(\"%Y%m%d_%H%M%S\")\n            archive_name = os.path.join(self.archive_path, f\"torrent_archive_{timestamp}.7z\")\n            \n            print(f\"📦 Creating archive: torrent_archive_{timestamp}.7z\")\n            print(f\"📁 Source: {self.downloads_path}\")\n            print(f\"📄 Files to archive: {len(files_to_archive)}\")\n            \n            # Create 700MB volumes using 7zip\n            cmd = [\n                '7z', 'a',\n                '-v700m',  # 700MB volumes\n                '-mx=5',   # Medium compression\n                archive_name,\n                f\"{self.downloads_path}/*\"\n            ]\n            \n            print(\"🔄 Compressing... This may take a while.\")\n            result = subprocess.run(cmd, capture_output=True, text=True)\n            \n            if result.returncode == 0:\n                print(\"✅ Archive created successfully!\")\n                self.list_archives()\n                \n            else:\n                print(f\"❌ Archive creation failed: {result.stderr}\")\n                \n        except Exception as e:\n            print(f\"❌ Archive error: {e}\")\n    \n    def list_downloads(self):\n        \"\"\"Show downloaded files\"\"\"\n        print(\"\\n📁 Downloaded files:\")\n        if not os.path.exists(self.downloads_path):\n            print(\"No downloads yet.\")\n            return\n            \n        total_size = 0\n        for root, dirs, files in os.walk(self.downloads_path):\n            level = root.replace(self.downloads_path, '').count(os.sep)\n            indent = ' ' * 2 * level\n            folder_name = os.path.basename(root) if level > 0 else \"downloads_torrent\"\n            print(f\"{indent}📁 {folder_name}/\")\n            \n            sub_indent = ' ' * 2 * (level + 1)\n            for file in files:\n                file_path = os.path.join(root, file)\n                size = os.path.getsize(file_path)\n                size_mb = size / (1024 * 1024)\n                total_size += size\n                print(f\"{sub_indent}📄 {file} ({size_mb:.1f} MB)\")\n        \n        print(f\"\\n💾 Total size: {total_size / (1024**3):.2f} GB\")\n    \n    def list_archives(self):\n        \"\"\"Show created archives\"\"\"\n        print(\"\\n📦 Created archives:\")\n        if not os.path.exists(self.archive_path):\n            print(\"No archives yet.\")\n            return\n            \n        all_files = os.listdir(self.archive_path)\n        archive_files = [f for f in all_files if '.7z.' in f or f.endswith('.7z')]\n        \n        if not archive_files:\n            print(\"No archive files found.\")\n            return\n        \n        # Group by base name\n        archive_groups = {}\n        for file in archive_files:\n            if '.7z.' in file:\n                base_name = file.split('.7z.')[0]\n            else:\n                base_name = file.replace('.7z', '')\n            \n            if base_name not in archive_groups:\n                archive_groups[base_name] = []\n            archive_groups[base_name].append(file)\n        \n        total_size = 0\n        for base_name, volumes in archive_groups.items():\n            volumes.sort(key=lambda x: int(x.split('.7z.')[-1]) if '.7z.' in x else 0)\n            print(f\"\\n📦 {base_name} ({len(volumes)} volumes):\")\n            \n            for volume in volumes:\n                volume_path = os.path.join(self.archive_path, volume)\n                size = os.path.getsize(volume_path)\n                size_mb = size / (1024 * 1024)\n                total_size += size\n                print(f\"  📄 {volume} ({size_mb:.1f} MB)\")\n        \n        print(f\"\\n💾 Total archive size: {total_size / (1024**3):.2f} GB\")\n        print(f\"📊 Total volumes: {len(archive_files)}\")\n    \n    def download_all_archives(self):\n        \"\"\"Download all archive files to local computer\"\"\"\n        if not os.path.exists(self.archive_path):\n            print(\"❌ Archive directory not found\")\n            return\n        \n        archive_files = [f for f in os.listdir(self.archive_path) if '.7z.' in f or f.endswith('.7z')]\n        \n        if not archive_files:\n            print(\"❌ No archive files found\")\n            return\n        \n        # Sort files\n        archive_files.sort()\n        \n        total_size = sum(os.path.getsize(os.path.join(self.archive_path, f)) for f in archive_files)\n        total_size_gb = total_size / (1024**3)\n        \n        print(f\"📥 Downloading {len(archive_files)} archive volumes\")\n        print(f\"💾 Total size: {total_size_gb:.2f} GB\")\n        print(\"⚠️ Make sure you have enough space on your computer!\")\n        print()\n        \n        # Download each file\n        for i, filename in enumerate(archive_files, 1):\n            file_path = os.path.join(self.archive_path, filename)\n            size_mb = os.path.getsize(file_path) / (1024*1024)\n            print(f\"⬇️ Downloading {i}/{len(archive_files)}: {filename} ({size_mb:.1f} MB)\")\n            \n            try:\n                files.download(file_path)\n                print(f\"✅ Downloaded: {filename}\")\n            except Exception as e:\n                print(f\"❌ Failed to download {filename}: {e}\")\n        \n        print(f\"\\n🎉 Download complete! Downloaded {len(archive_files)} volumes\")\n        print(\"📝 Extract with 7zip, WinRAR, or similar tools\")\n        print(\"📝 All volumes must be in the same folder when extracting\")\n    \n    def cleanup(self, keep_archives=True):\n        \"\"\"Clean up downloaded files\"\"\"\n        if os.path.exists(self.downloads_path):\n            shutil.rmtree(self.downloads_path)\n            os.makedirs(self.downloads_path, exist_ok=True)\n            print(\"🗑️ Download folder cleaned\")\n        \n        if not keep_archives and os.path.exists(self.archive_path):\n            shutil.rmtree(self.archive_path)\n            os.makedirs(self.archive_path, exist_ok=True)\n            print(\"🗑️ Archive folder cleaned\")\n\n# Create universal downloader instance\ndownloader = UniversalTorrentDownloader(downloads_torrent, archive_dir)\nprint(\"✅ Universal torrent downloader ready!\")\nprint(\"📁 Downloads: /content/downloads_torrent/\")\nprint(\"📦 Archives: /content/archives/\")\nprint(\"🔄 Workflow: Download → Archive → Auto-download\")"
  },
  {
   "cell_type": "markdown",
   "metadata": {},
   "source": [
    "## 4. Download Torrent"
   ]
  },
  {
   "cell_type": "code",
   "execution_count": null,
   "metadata": {},
   "outputs": [],
   "source": [
    "# Option 1: Download by magnet link\n",
    "magnet_link = \"magnet:?xt=urn:btih:HASH&dn=filename\"  # Replace with your magnet link\n",
    "# downloader.download_torrent(magnet_link)\n",
    "\n",
    "# Option 2: Download by torrent file\n",
    "print(\"📁 Select torrent file for download:\")\n",
    "uploaded = files.upload()\n",
    "\n",
    "if uploaded:\n",
    "    torrent_file = list(uploaded.keys())[0]\n",
    "    print(f\"📄 Uploaded file: {torrent_file}\")\n",
    "    \n",
    "    # Start download with auto-archive\n",
    "    downloader.download_torrent(torrent_file, auto_archive=True)\n",
    "else:\n",
    "    print(\"❌ No file uploaded\")"
   ]
  },
  {
   "cell_type": "markdown",
   "metadata": {},
   "source": "## 5. View Archives and Download"
  },
  {
   "cell_type": "code",
   "execution_count": null,
   "metadata": {},
   "outputs": [],
   "source": "# Show all archives and disk usage\ndownloader.list_archives()\n\n# Show current disk usage\nusage = get_disk_usage('/content')\nprint(f\"\\n💾 Current disk usage: {usage['used']}GB / {usage['total']}GB\")\nprint(f\"💾 Available space: {usage['free']}GB\")"
  },
  {
   "cell_type": "markdown",
   "metadata": {},
   "source": "## 6. Download Archives (if needed)"
  },
  {
   "cell_type": "code",
   "execution_count": null,
   "metadata": {},
   "outputs": [],
   "source": "# Download all archives (only if auto-download failed or you need to re-download)\nprint(\"📥 Re-downloading all archives...\")\nprint(\"💡 Note: Archives are downloaded automatically after torrent completion\")\nprint(\"🔧 Use this only if you need to download archives again\")\n\ndownloader.download_all_archives()"
  },
  {
   "cell_type": "markdown",
   "metadata": {},
   "source": "## 7. Cleanup"
  },
  {
   "cell_type": "code",
   "execution_count": null,
   "metadata": {},
   "outputs": [],
   "source": "# Clean up downloaded files (keep archives)\n# downloader.cleanup(keep_archives=True)\n\n# Clean up everything\n# downloader.cleanup(keep_archives=False)\n\nprint(\"🧹 Uncomment the lines above to clean up files\")"
  },
  {
   "cell_type": "markdown",
   "metadata": {},
   "source": "## 📝 Notes\n\n### Universal Workflow\n1. **Download torrent** (Section 4) → Files go to `/content/downloads_torrent/`\n2. **Auto-archive** → Creates 700MB volumes with timestamp\n3. **Auto-download** → All archive volumes download to your computer\n\n### Storage\n- **70GB** local storage available in `/content/`\n- Files are automatically archived into **700MB volumes**\n- Archives can be downloaded individually if needed\n- Storage is cleared when Colab session restarts\n\n### Archive Format\n- Uses 7zip compression with 700MB volumes\n- Files named: `torrent_archive_TIMESTAMP.7z.001`, `.002`, etc.\n- Extract with 7zip, WinRAR, or similar tools\n\n### Advantages\n- **Fully automatic**: Download → Archive → Download\n- **Universal**: Works with any torrent, no name dependencies\n- **More storage**: 70GB vs 15GB Google Drive\n- **Faster downloads**: Local storage is faster\n- **Easy archiving**: Auto-split into manageable chunks\n\n### Limitations\n- Files lost when session restarts (archives are downloaded first!)\n- Individual file download limit: ~2GB via Colab\n- Session timeout: 12 hours maximum\n\n### Legal Notice\n**For research and educational purposes only.** Use only for legal content and respect copyright laws."
  },
  {
   "cell_type": "code",
   "execution_count": null,
   "metadata": {},
   "outputs": [],
   "source": [
    "# Clean up downloaded files (keep archives)\n",
    "# downloader.cleanup(keep_archives=True)\n",
    "\n",
    "# Clean up everything\n",
    "# downloader.cleanup(keep_archives=False)\n",
    "\n",
    "print(\"🧹 Uncomment the lines above to clean up files\")"
   ]
  },
  {
   "cell_type": "markdown",
   "metadata": {},
   "source": [
    "## 📝 Notes\n",
    "\n",
    "### Storage\n",
    "- **70GB** local storage available in `/content/`\n",
    "- Files are automatically archived into **700MB volumes**\n",
    "- Archives can be downloaded individually\n",
    "- Storage is cleared when Colab session restarts\n",
    "\n",
    "### Archive Format\n",
    "- Uses 7zip compression with 700MB volumes\n",
    "- Files named: `archive.7z.001`, `archive.7z.002`, etc.\n",
    "- Extract with 7zip, WinRAR, or similar tools\n",
    "\n",
    "### Advantages over Google Drive version\n",
    "- **More storage**: 70GB vs 15GB\n",
    "- **Faster downloads**: Local storage is faster\n",
    "- **Easy archiving**: Auto-split into manageable chunks\n",
    "- **No cloud authorization**: Works without Drive mounting\n",
    "\n",
    "### Limitations\n",
    "- Files lost when session restarts (download archives first!)\n",
    "- Individual file download limit: ~2GB via Colab\n",
    "- Session timeout: 12 hours maximum\n",
    "\n",
    "### Legal Notice\n",
    "**For research and educational purposes only.** Use only for legal content and respect copyright laws."
   ]
  }
 ],
 "metadata": {
  "kernelspec": {
   "display_name": "Python 3",
   "language": "python",
   "name": "python3"
  },
  "language_info": {
   "codemirror_mode": {
    "name": "ipython",
    "version": 3
   },
   "file_extension": ".py",
   "mimetype": "text/x-python",
   "name": "python",
   "nbconvert_exporter": "python",
   "pygments_lexer": "ipython3",
   "version": "3.8.10"
  }
 },
 "nbformat": 4,
 "nbformat_minor": 4
}