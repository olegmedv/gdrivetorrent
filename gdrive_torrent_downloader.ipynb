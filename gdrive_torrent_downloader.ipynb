{
 "cells": [
  {
   "cell_type": "markdown",
   "metadata": {
    "id": "header"
   },
   "source": "# Google Drive Torrent Downloader\n\nThis script allows downloading torrents directly to Google Drive through Google Colab.\n\n⚠️ **Important**: For research and educational purposes only. Please respect copyright laws and use only for legal content."
  },
  {
   "cell_type": "markdown",
   "metadata": {
    "id": "setup"
   },
   "source": "## 1. Install Dependencies"
  },
  {
   "cell_type": "code",
   "execution_count": null,
   "metadata": {
    "id": "install_deps"
   },
   "outputs": [],
   "source": "# Install dependencies (fixed version)\n!apt-get update\n!apt-get install -y libtorrent-rasterbar-dev\n!pip install libtorrent\n\n# Check installation\nimport libtorrent as lt\nprint(f\"✅ LibTorrent version: {lt.version}\")\nprint(\"✅ Installation completed successfully!\")"
  },
  {
   "cell_type": "markdown",
   "metadata": {
    "id": "mount_drive"
   },
   "source": "## 2. Mount Google Drive"
  },
  {
   "cell_type": "code",
   "execution_count": null,
   "metadata": {
    "id": "mount_gdrive"
   },
   "outputs": [],
   "source": "from google.colab import drive\ndrive.mount('/content/drive')\n\n# Create folder for torrents\nimport os\ntorrent_dir = '/content/drive/MyDrive/Torrents'\nos.makedirs(torrent_dir, exist_ok=True)\nprint(f\"Torrents folder: {torrent_dir}\")"
  },
  {
   "cell_type": "markdown",
   "metadata": {
    "id": "torrent_downloader"
   },
   "source": "## 3. Torrent Downloader"
  },
  {
   "cell_type": "code",
   "execution_count": null,
   "metadata": {
    "id": "downloader_class"
   },
   "outputs": [],
   "source": "import libtorrent as lt\nimport time\nimport os\nfrom IPython.display import clear_output\n\nclass TorrentDownloader:\n    def __init__(self, download_path):\n        self.download_path = download_path\n        self.session = lt.session()\n        self.session.listen_on(6881, 6891)\n        \n    def download_torrent(self, torrent_file_or_magnet):\n        \"\"\"Download torrent by file or magnet link\"\"\"\n        try:\n            # Check if it's a magnet link or file\n            if torrent_file_or_magnet.startswith('magnet:'):\n                handle = lt.add_magnet_uri(self.session, torrent_file_or_magnet, {\n                    'save_path': self.download_path\n                })\n            else:\n                # Load torrent file\n                info = lt.torrent_info(torrent_file_or_magnet)\n                handle = self.session.add_torrent({\n                    'ti': info,\n                    'save_path': self.download_path\n                })\n            \n            print(f\"Starting download: {handle.name()}\")\n            \n            # Progress monitoring\n            while not handle.is_seed():\n                status = handle.status()\n                \n                clear_output(wait=True)\n                print(f\"Torrent: {handle.name()}\")\n                print(f\"Progress: {status.progress * 100:.1f}%\")\n                print(f\"Download rate: {status.download_rate / 1000:.1f} KB/s\")\n                print(f\"Upload rate: {status.upload_rate / 1000:.1f} KB/s\")\n                print(f\"Peers: {status.num_peers}\")\n                print(f\"Seeds: {status.num_seeds}\")\n                \n                if status.state == lt.torrent_status.downloading:\n                    print(\"Status: Downloading\")\n                elif status.state == lt.torrent_status.finished:\n                    print(\"Status: Finished\")\n                    break\n                elif status.state == lt.torrent_status.seeding:\n                    print(\"Status: Seeding\")\n                    break\n                \n                time.sleep(2)\n            \n            print(f\"\\n✅ Download completed: {handle.name()}\")\n            print(f\"Files saved to: {self.download_path}\")\n            \n        except Exception as e:\n            print(f\"❌ Download error: {e}\")\n    \n    def list_files(self):\n        \"\"\"Show downloaded files\"\"\"\n        print(\"\\n📁 Downloaded files:\")\n        for root, dirs, files in os.walk(self.download_path):\n            level = root.replace(self.download_path, '').count(os.sep)\n            indent = ' ' * 2 * level\n            print(f\"{indent}{os.path.basename(root)}/\")\n            sub_indent = ' ' * 2 * (level + 1)\n            for file in files:\n                file_path = os.path.join(root, file)\n                size = os.path.getsize(file_path)\n                size_mb = size / (1024 * 1024)\n                print(f\"{sub_indent}{file} ({size_mb:.1f} MB)\")\n\n# Create downloader instance\ndownloader = TorrentDownloader(torrent_dir)\nprint(\"✅ Torrent downloader ready!\")"
  },
  {
   "cell_type": "markdown",
   "metadata": {
    "id": "usage"
   },
   "source": "## 4. Usage"
  },
  {
   "cell_type": "code",
   "execution_count": null,
   "metadata": {
    "id": "download_example"
   },
   "outputs": [],
   "source": "# Option 1: Download by magnet link\nmagnet_link = \"magnet:?xt=urn:btih:HASH&dn=filename\"  # Replace with your magnet link\n# downloader.download_torrent(magnet_link)\n\n# Option 2: Download by torrent file\n# First upload torrent file to Colab\nfrom google.colab import files\nprint(\"Select torrent file for download:\")\nuploaded = files.upload()\n\n# Get uploaded file name\ntorrent_file = list(uploaded.keys())[0]\nprint(f\"Uploaded file: {torrent_file}\")\n\n# Start download\ndownloader.download_torrent(torrent_file)"
  },
  {
   "cell_type": "markdown",
   "metadata": {
    "id": "list_files"
   },
   "source": "## 5. View Downloaded Files"
  },
  {
   "cell_type": "code",
   "execution_count": null,
   "metadata": {
    "id": "show_files"
   },
   "outputs": [],
   "source": "# Show all downloaded files\ndownloader.list_files()"
  },
  {
   "cell_type": "markdown",
   "metadata": {
    "id": "manual_download"
   },
   "source": "## 6. Manual Download (Alternative Method)"
  },
  {
   "cell_type": "code",
   "execution_count": null,
   "metadata": {
    "id": "manual_method"
   },
   "outputs": [],
   "source": "# For direct usage without class\ndef download_torrent_simple(magnet_or_file, save_path):\n    import libtorrent as lt\n    \n    session = lt.session()\n    session.listen_on(6881, 6891)\n    \n    if magnet_or_file.startswith('magnet:'):\n        handle = lt.add_magnet_uri(session, magnet_or_file, {'save_path': save_path})\n    else:\n        info = lt.torrent_info(magnet_or_file)\n        handle = session.add_torrent({'ti': info, 'save_path': save_path})\n    \n    print(f\"Downloading: {handle.name()}\")\n    \n    while not handle.is_seed():\n        status = handle.status()\n        print(f\"\\rProgress: {status.progress * 100:.1f}%\", end='', flush=True)\n        \n        if status.state == lt.torrent_status.finished:\n            break\n            \n        time.sleep(1)\n    \n    print(f\"\\n✅ Download completed!\")\n\n# Usage example:\n# download_torrent_simple(\"magnet:?xt=urn:btih:HASH\", \"/content/drive/MyDrive/Torrents\")"
  },
  {
   "cell_type": "markdown",
   "metadata": {
    "id": "notes"
   },
   "source": "## 📝 Notes\n\n- Files will be saved to `/content/drive/MyDrive/Torrents/` folder on your Google Drive\n- Colab session may disconnect after 12 hours of inactivity\n- For large files, it's recommended to check progress regularly\n- **For research and educational purposes only**\n- Use only for legal content and respect copyright laws\n- If you encounter connection issues, try restarting the dependencies installation cell"
  }
 ],
 "metadata": {
  "colab": {
   "name": "GDrive Torrent Downloader",
   "provenance": []
  },
  "kernelspec": {
   "display_name": "Python 3",
   "language": "python",
   "name": "python3"
  },
  "language_info": {
   "codemirror_mode": {
    "name": "ipython",
    "version": 3
   },
   "file_extension": ".py",
   "mimetype": "text/x-python",
   "name": "python",
   "nbconvert_exporter": "python",
   "pygments_lexer": "ipython3",
   "version": "3.7.12"
  }
 },
 "nbformat": 4,
 "nbformat_minor": 0
}